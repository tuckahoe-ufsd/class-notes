{
 "cells": [
  {
   "cell_type": "markdown",
   "id": "4dbfcfa9-dd96-40c9-9094-3d5dcf88491f",
   "metadata": {},
   "source": [
    "# HTML Notes\n",
    "*****"
   ]
  },
  {
   "cell_type": "markdown",
   "id": "4419f1a4-2162-4377-ab85-7ea1e83a5ca3",
   "metadata": {},
   "source": [
    "## Subheading"
   ]
  },
  {
   "cell_type": "markdown",
   "id": "730284d8-1464-4ac2-9b19-91357e99cc58",
   "metadata": {},
   "source": [
    "<p>This is a paragraph </p>"
   ]
  },
  {
   "cell_type": "markdown",
   "id": "3d096797-d0ed-4908-96f9-453c45383042",
   "metadata": {},
   "source": [
    "In `HTML` the `<p>` tag"
   ]
  },
  {
   "cell_type": "markdown",
   "id": "e8f8551a-8a89-43c4-ac59-bc78e6fe0296",
   "metadata": {},
   "source": [
    "```\n",
    "<body>\n",
    "    <p>This is a paragraph</p>\n",
    "</body>\n",
    "```"
   ]
  },
  {
   "cell_type": "markdown",
   "id": "8f444a16-56be-4f13-ad40-1aeb79007159",
   "metadata": {},
   "source": [
    "__bold text__"
   ]
  },
  {
   "cell_type": "markdown",
   "id": "38b5bd7f-7204-4fae-8b79-784c7dc76f00",
   "metadata": {},
   "source": [
    "1. Skibidi\n",
    "2. Toilet\n",
    "3. Rizz\n",
    "4. In\n",
    "5. Ohio"
   ]
  },
  {
   "cell_type": "markdown",
   "id": "f8d5e368-2c0b-45bb-bcad-82577ab5f9d8",
   "metadata": {},
   "source": [
    "*italics*"
   ]
  },
  {
   "cell_type": "markdown",
   "id": "1141a58c-5e79-4582-8a0e-6551d7bd450a",
   "metadata": {},
   "source": [
    "_italics_"
   ]
  },
  {
   "cell_type": "markdown",
   "id": "f8f6a7c9-9940-4054-b8f8-a77ca425081e",
   "metadata": {},
   "source": [
    "[Scary Image:](https://encrypted-tbn0.gstatic.com/images?q=tbn:ANd9GcTUG09eG9I5F0YGNle7OdLcnKhmdxtCb373yoX_BvNhhAoBFEmZ:https://i.pinimg.com/564x/be/82/15/be821544fc5f328567cb538f96edb49a.jpg&s)"
   ]
  },
  {
   "cell_type": "markdown",
   "id": "d59d4c1c-23ec-44f9-9267-fb9931e7b790",
   "metadata": {},
   "source": [
    "from IPython.display import Image\n",
    "Image(filename=\"images.jpg\")"
   ]
  },
  {
   "cell_type": "markdown",
   "id": "2751a94f-0104-464e-be8c-64f299454069",
   "metadata": {},
   "source": [
    "# HTML Notes"
   ]
  },
  {
   "cell_type": "markdown",
   "id": "a1bfb2bd-7a4f-4ffd-b127-d7c328146eb5",
   "metadata": {},
   "source": [
    "### 1. HTML Structure"
   ]
  },
  {
   "cell_type": "markdown",
   "id": "ee8b5b98-7375-428c-a8e4-9977cabaaf75",
   "metadata": {},
   "source": [
    "<p>HTML is the standard language for creating web pages. It uses a series of elements represented by tags, like this:</p>"
   ]
  },
  {
   "cell_type": "markdown",
   "id": "dcc8ea30-df0d-4f7f-aba1-c3b23429264c",
   "metadata": {},
   "source": [
    "```<!DOCTYPE html>\n",
    "<html>\n",
    "    <head>\n",
    "        <title>Insert Title:</title>\n",
    "    </head>\n",
    "    <body>\n",
    "        <h1>This is the largest header</h1>\n",
    "        <p>Insert Paragraph:</p>\n",
    "    </body>\n",
    "</html>\n",
    "```"
   ]
  },
  {
   "cell_type": "markdown",
   "id": "7c993b5e-b860-4dfb-b08a-2f522a768fdc",
   "metadata": {},
   "source": [
    "#### Key Elements"
   ]
  },
  {
   "cell_type": "markdown",
   "id": "2dccad61-9ae8-46ed-b662-37687f3ebc79",
   "metadata": {},
   "source": [
    "```\n",
    "<<!DOCTYPE html> - tells that this document is HTML\n",
    "<html> - the root of HTML document\n",
    "<head> - Contains important info about the document\n",
    "<body> - Contains content of the document "
   ]
  },
  {
   "cell_type": "code",
   "execution_count": null,
   "id": "b1b31759-f644-48b4-bdea-4dc64f322600",
   "metadata": {},
   "outputs": [],
   "source": []
  }
 ],
 "metadata": {
  "kernelspec": {
   "display_name": "Python 3 (ipykernel)",
   "language": "python",
   "name": "python3"
  },
  "language_info": {
   "codemirror_mode": {
    "name": "ipython",
    "version": 3
   },
   "file_extension": ".py",
   "mimetype": "text/x-python",
   "name": "python",
   "nbconvert_exporter": "python",
   "pygments_lexer": "ipython3",
   "version": "3.12.1"
  }
 },
 "nbformat": 4,
 "nbformat_minor": 5
}
