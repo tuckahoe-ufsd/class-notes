{
 "cells": [
  {
   "cell_type": "markdown",
   "id": "4dbfcfa9-dd96-40c9-9094-3d5dcf88491f",
   "metadata": {},
   "source": [
    "# HTML Notes\n",
    "*****"
   ]
  },
  {
   "cell_type": "markdown",
   "id": "4419f1a4-2162-4377-ab85-7ea1e83a5ca3",
   "metadata": {},
   "source": [
    "## Subheading"
   ]
  },
  {
   "cell_type": "markdown",
   "id": "730284d8-1464-4ac2-9b19-91357e99cc58",
   "metadata": {},
   "source": [
    "<p>This is a paragraph </p>"
   ]
  },
  {
   "cell_type": "markdown",
   "id": "3d096797-d0ed-4908-96f9-453c45383042",
   "metadata": {},
   "source": [
    "In `HTML` the `<p>` tag"
   ]
  },
  {
   "cell_type": "markdown",
   "id": "e8f8551a-8a89-43c4-ac59-bc78e6fe0296",
   "metadata": {},
   "source": [
    "```\n",
    "<body>\n",
    "    <p>This is a paragraph</p>\n",
    "</body>\n",
    "```"
   ]
  },
  {
   "cell_type": "markdown",
   "id": "8f444a16-56be-4f13-ad40-1aeb79007159",
   "metadata": {},
   "source": [
    "__bold text__"
   ]
  },
  {
   "cell_type": "markdown",
   "id": "38b5bd7f-7204-4fae-8b79-784c7dc76f00",
   "metadata": {},
   "source": [
    "1. Skibidi\n",
    "2. Toilet\n",
    "3. Rizz\n",
    "4. In\n",
    "5. Ohio"
   ]
  },
  {
   "cell_type": "markdown",
   "id": "f8d5e368-2c0b-45bb-bcad-82577ab5f9d8",
   "metadata": {},
   "source": [
    "*italics*"
   ]
  },
  {
   "cell_type": "markdown",
   "id": "1141a58c-5e79-4582-8a0e-6551d7bd450a",
   "metadata": {},
   "source": [
    "_italics_"
   ]
  },
  {
   "cell_type": "markdown",
   "id": "f8f6a7c9-9940-4054-b8f8-a77ca425081e",
   "metadata": {},
   "source": [
    "[Scary Image:](https://encrypted-tbn0.gstatic.com/images?q=tbn:ANd9GcTUG09eG9I5F0YGNle7OdLcnKhmdxtCb373yoX_BvNhhAoBFEmZ:https://i.pinimg.com/564x/be/82/15/be821544fc5f328567cb538f96edb49a.jpg&s)"
   ]
  },
  {
   "cell_type": "markdown",
   "id": "d59d4c1c-23ec-44f9-9267-fb9931e7b790",
   "metadata": {},
   "source": [
    "from IPython.display import Image\n",
    "Image(filename=\"images.jpg\")"
   ]
  },
  {
   "cell_type": "markdown",
   "id": "2751a94f-0104-464e-be8c-64f299454069",
   "metadata": {},
   "source": [
    "# HTML Notes"
   ]
  },
  {
   "cell_type": "markdown",
   "id": "a1bfb2bd-7a4f-4ffd-b127-d7c328146eb5",
   "metadata": {},
   "source": [
    "### __1. HTML Structure__"
   ]
  },
  {
   "cell_type": "markdown",
   "id": "ee8b5b98-7375-428c-a8e4-9977cabaaf75",
   "metadata": {},
   "source": [
    "<p>HTML is the standard language for creating web pages. It uses a series of elements represented by tags, like this:</p>"
   ]
  },
  {
   "cell_type": "markdown",
   "id": "dcc8ea30-df0d-4f7f-aba1-c3b23429264c",
   "metadata": {},
   "source": [
    "```<!DOCTYPE html>\n",
    "<html>\n",
    "    <head>\n",
    "        <title>Insert Title:</title>\n",
    "    </head>\n",
    "    <body>\n",
    "        <h1>This is the largest header</h1>\n",
    "        <p>Insert Paragraph:</p>\n",
    "    </body>\n",
    "</html>\n",
    "```"
   ]
  },
  {
   "cell_type": "markdown",
   "id": "7c993b5e-b860-4dfb-b08a-2f522a768fdc",
   "metadata": {},
   "source": [
    "#### Key Elements"
   ]
  },
  {
   "cell_type": "markdown",
   "id": "2dccad61-9ae8-46ed-b662-37687f3ebc79",
   "metadata": {},
   "source": [
    "```\n",
    "<<!DOCTYPE html> - tells that this document is HTML\n",
    "<html> - the root of HTML document\n",
    "<head> - Contains important info about the document\n",
    "<body> - Contains content of the document "
   ]
  },
  {
   "cell_type": "markdown",
   "id": "bd729b8e-3b3b-480e-bf66-7cb3b28cd52a",
   "metadata": {},
   "source": [
    "### __2. Common HTML Tags__"
   ]
  },
  {
   "cell_type": "markdown",
   "id": "f8945525-6140-4b6f-b00a-11fb301d514e",
   "metadata": {},
   "source": [
    "#### Headings"
   ]
  },
  {
   "cell_type": "markdown",
   "id": "7f44607d-58a5-4672-9d7b-a1cc6bfae994",
   "metadata": {},
   "source": [
    "HTML contains six levels of headings, `<h1>` being the most important, `<h6>` beiing the least important"
   ]
  },
  {
   "cell_type": "markdown",
   "id": "6066f1eb-1be8-400b-a410-0a763cbabea3",
   "metadata": {},
   "source": [
    "```\n",
    "<h1> Most Important </h1>\n",
    "<h2> Second Important</h2>\n",
    "<h3> Third important</h3>\n",
    "```"
   ]
  },
  {
   "cell_type": "markdown",
   "id": "2b1a734c-299e-4393-b340-cc681e96cace",
   "metadata": {},
   "source": [
    "### __Paragraphs__"
   ]
  },
  {
   "cell_type": "markdown",
   "id": "c22fe4eb-b71f-40b7-8eaa-c926e103c883",
   "metadata": {},
   "source": [
    "You can create paragraphs using the `<p>` tag"
   ]
  },
  {
   "cell_type": "markdown",
   "id": "f4dbd6fc-d25c-4a8a-bf54-d1f962f768cb",
   "metadata": {},
   "source": [
    "```\n",
    "<p> This is a paragraph </p>\n",
    "\n",
    "```"
   ]
  },
  {
   "cell_type": "markdown",
   "id": "1fefc70b-98ae-4406-8eff-9015ecff79d8",
   "metadata": {},
   "source": [
    "### __Links__"
   ]
  },
  {
   "cell_type": "markdown",
   "id": "39f5f93f-cc8e-4529-ad10-3fd31613cd55",
   "metadata": {},
   "source": [
    "Links are created with the `<a>` tag, which includes a `href` attribute to specify the URL."
   ]
  },
  {
   "cell_type": "markdown",
   "id": "c6e4c822-e100-4b82-9f36-9b54ce360f84",
   "metadata": {},
   "source": [
    "```\n",
    "<a href=\"https://google.com\">Google</a>\n",
    "```"
   ]
  },
  {
   "cell_type": "markdown",
   "id": "737ec8e4-a8d3-43f5-8ded-6b6e81ccd3fa",
   "metadata": {},
   "source": [
    "### __Images__"
   ]
  },
  {
   "cell_type": "markdown",
   "id": "78a86b88-3cdc-4db5-867b-fc1ad2caee82",
   "metadata": {},
   "source": [
    "Images a created using the `<img>` tag with `src` and `alt` attributes."
   ]
  },
  {
   "cell_type": "markdown",
   "id": "fd760de1-685e-4a96-bcc8-5e230518cea5",
   "metadata": {},
   "source": [
    "```\n",
    "<img src=\"cooldog.jpg\" alt=\"Description of dog\"\n",
    "```"
   ]
  },
  {
   "cell_type": "markdown",
   "id": "6952271f-1f63-40a0-a24e-f410020fa72e",
   "metadata": {},
   "source": [
    "### __Lists__"
   ]
  },
  {
   "cell_type": "markdown",
   "id": "07bd0db6-9417-4e8f-82e7-85143ff68e82",
   "metadata": {},
   "source": [
    "There are two types of lists: `<ul>` (unordered) and `<ol>` (ordered) lists. Unordered lists will have bullets, an ordered list will be numbered."
   ]
  },
  {
   "cell_type": "markdown",
   "id": "646f1f06-7293-4cae-ab63-8ab1e3b1ee7f",
   "metadata": {},
   "source": [
    "__Unordered Lists__"
   ]
  },
  {
   "cell_type": "markdown",
   "id": "58f35e6d-16f2-40d3-9355-9bd381b9cf82",
   "metadata": {},
   "source": [
    "``` \n",
    "<ul>\n",
    "    <li>Thing 1</li>\n",
    "    <li>Thing 2</li>\n",
    "    <li>Thing 3</li>\n",
    "</ul>\n",
    "```"
   ]
  },
  {
   "cell_type": "markdown",
   "id": "57b63f14-fcec-4c36-a5bf-4bb22f790b87",
   "metadata": {},
   "source": [
    "__Ordered Lists__"
   ]
  },
  {
   "cell_type": "markdown",
   "id": "ae4e577c-9963-433e-b29e-7183e79f390b",
   "metadata": {},
   "source": [
    "```\n",
    "<ol> \n",
    "    <li>Thing 1</li>\n",
    "    <li>Thing 2</li>\n",
    "    <li>Thing 3</li>\n",
    "</ol>"
   ]
  },
  {
   "cell_type": "markdown",
   "id": "ce5d6f8a-de6c-4de0-8662-88962dc749b9",
   "metadata": {},
   "source": [
    "### __3. Atributes__"
   ]
  },
  {
   "cell_type": "markdown",
   "id": "b5ae52ee-c859-405c-8671-36e9ec58fc3e",
   "metadata": {},
   "source": [
    "HTML elements can have attributes that provide additional information about the element. Atributes are always defined in the opening tag and usually come in name/value pairs. There are many different types of attributes that can be applies to HTMl Tags."
   ]
  },
  {
   "cell_type": "markdown",
   "id": "421f856e-0292-4e55-9304-128545ebb35c",
   "metadata": {},
   "source": [
    "__Example__"
   ]
  },
  {
   "cell_type": "markdown",
   "id": "36867200-3229-4f27-8dd7-d5354fe54b08",
   "metadata": {},
   "source": [
    "``` \n",
    "<a href=\"google.com\" target=\"_blank\">Link</a>"
   ]
  },
  {
   "cell_type": "markdown",
   "id": "16594621-efe1-4dc1-9c1c-3020c0dadc10",
   "metadata": {},
   "source": [
    "`href` Specifies the link's destination (Google)"
   ]
  },
  {
   "cell_type": "markdown",
   "id": "fae772f5-6240-4086-88b8-6ffc72d8c9cd",
   "metadata": {},
   "source": [
    "`target=\"_blank\"` Opens the link in a new tab\""
   ]
  },
  {
   "cell_type": "markdown",
   "id": "63be63d0-d0e0-41e3-8a25-977f365b5607",
   "metadata": {},
   "source": [
    "### __4. Divs and Spans__"
   ]
  },
  {
   "cell_type": "markdown",
   "id": "626e2571-32fc-4939-b2a2-5db046803c8b",
   "metadata": {},
   "source": [
    "`<div>` Defines a division or section in an HTML document. It's often used to group elements for styling or layout"
   ]
  },
  {
   "cell_type": "markdown",
   "id": "fcae72c0-f5de-49b0-b28d-758c81249b4f",
   "metadata": {},
   "source": [
    "`<span>` An inline container used to group content for styling or scripting "
   ]
  },
  {
   "cell_type": "markdown",
   "id": "d5fbfdb2-4b9d-49e1-bee1-1f1f5de1ca8f",
   "metadata": {},
   "source": [
    "__Example__"
   ]
  },
  {
   "cell_type": "markdown",
   "id": "4ea72d3b-d4cd-4ad4-a129-d350fb679293",
   "metadata": {},
   "source": [
    "```\n",
    "    <div>\n",
    "        <h1>Title</h1>\n",
    "        <p>This is inside a div.</p>\n",
    "    </div>\n",
    "    <span>This is inside a span.</span>"
   ]
  },
  {
   "cell_type": "markdown",
   "id": "b044e09a-68b4-4e80-8add-0202ee4c5433",
   "metadata": {},
   "source": [
    "### __5. Forms__ "
   ]
  },
  {
   "cell_type": "markdown",
   "id": "ae948ce7-8d02-4b3a-b7a8-f70bce3f4015",
   "metadata": {},
   "source": [
    "HTML forms collect user input. A form usually contains `input`, `textarea`, `select` and `button` elements"
   ]
  },
  {
   "cell_type": "markdown",
   "id": "53ce9efd-80dc-4dc9-9d83-c5eec28aea82",
   "metadata": {},
   "source": [
    "```\n",
    "    <form action=\"/submit\" method=\"post\">\n",
    "        <label for=\"name\">Name:</label>\n",
    "        <input type=\"text\" id=\"name\" name=\"name\">\n",
    "        <input type=\"submit\" value=\"Submit\">\n",
    "    </form>"
   ]
  },
  {
   "cell_type": "markdown",
   "id": "04733f9b-43d0-4944-a984-c0983e7602ee",
   "metadata": {},
   "source": [
    "`action` URL to sennd form data to"
   ]
  },
  {
   "cell_type": "markdown",
   "id": "0fc3759e-1de9-4ece-9423-5ab82b160f4d",
   "metadata": {},
   "source": [
    "`method` Specifies how to send form data (get or post)"
   ]
  },
  {
   "cell_type": "markdown",
   "id": "05c4b27c-a03a-427b-b001-c81d45530b99",
   "metadata": {},
   "source": [
    "### __6. Semantic HTML__"
   ]
  },
  {
   "cell_type": "markdown",
   "id": "4e0623e1-99c6-4abf-b501-882426b822d6",
   "metadata": {},
   "source": [
    "HTML5 indroduced nnew sematic elements to provide better meaning to web pages. This is for better code readability, accessibility  for those living with disabilities and many other benefits."
   ]
  },
  {
   "cell_type": "markdown",
   "id": "90134728-d53a-443a-900c-716bd3f95611",
   "metadata": {},
   "source": [
    "`<header>`Defines a header section\n",
    "`<nav>` Defines a navigation bar\n",
    "`<section>`Defines a section in a document. \n",
    "`<article>`Defines independent content. \n",
    "`<footer>` Defines a footer for a document or section."
   ]
  },
  {
   "cell_type": "markdown",
   "id": "169d7d99-dc4f-466d-904f-46ef0f32eeb0",
   "metadata": {},
   "source": [
    "__Examples of Semantic HTML__"
   ]
  },
  {
   "cell_type": "markdown",
   "id": "99d08b25-8e2b-49eb-973f-c4b9bc0215a6",
   "metadata": {},
   "source": [
    "```\n",
    "<header>\n",
    "    <h1>Welcome</h1>\n",
    "</header>\n",
    "\n",
    "<nav>\n",
    "    <a href=\"/home\">Home</a>\n",
    "    <a href=\"/about\">About</a>\n",
    "</nav>\n",
    "\n",
    "<section>\n",
    "    <article>\n",
    "        <h2>Blog Post Title</h2>\n",
    "        <p>Blog content goes here...</p>\n",
    "    </article>\n",
    "</section>\n",
    "\n",
    "<footer>\n",
    "    <p>Footer content goes here.</p>\n",
    "</footer>\n"
   ]
  }
 ],
 "metadata": {
  "kernelspec": {
   "display_name": "Python 3 (ipykernel)",
   "language": "python",
   "name": "python3"
  },
  "language_info": {
   "codemirror_mode": {
    "name": "ipython",
    "version": 3
   },
   "file_extension": ".py",
   "mimetype": "text/x-python",
   "name": "python",
   "nbconvert_exporter": "python",
   "pygments_lexer": "ipython3",
   "version": "3.12.1"
  }
 },
 "nbformat": 4,
 "nbformat_minor": 5
}
